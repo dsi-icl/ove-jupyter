{
 "cells": [
  {
   "cell_type": "code",
   "execution_count": null,
   "metadata": {},
   "outputs": [],
   "source": [
    "# ove_config --space DOCluster --rows 4 --cols 16 --env \".env\" -rm True -m development"
   ]
  },
  {
   "cell_type": "code",
   "execution_count": null,
   "metadata": {},
   "outputs": [],
   "source": [
    "# ove_controller\n",
    "import pandas as pd\n",
    "\n",
    "from matplotlib import pyplot as plt\n",
    "from IPython.display import Audio, Code, GeoJSON, IFrame, Image, JSON, Latex, Markdown, Math, Video, YouTubeVideo"
   ]
  },
  {
   "cell_type": "code",
   "execution_count": null,
   "metadata": {},
   "outputs": [],
   "source": [
    "# tee 1\n",
    "df = pd.DataFrame({\"a\": [32, 45, 90, 80], \"b\": [91, 67, 2, 38]})\n",
    "df.head()"
   ]
  },
  {
   "cell_type": "code",
   "execution_count": null,
   "metadata": {},
   "outputs": [],
   "source": [
    "# tee 2 -r 1 -c 2\n",
    "plt.plot([0, 1, 2, 3, 4], [76, 80, 67, 92, 95])\n",
    "plt.show()"
   ]
  },
  {
   "cell_type": "code",
   "execution_count": null,
   "metadata": {},
   "outputs": [],
   "source": [
    "# tee 3 -h 1080 -w 3840 -x 0 -y 1080\n",
    "df = pd.DataFrame({\"a\": [0, 1, 2, 3], \"b\": [4, 5, 6, 7]})\n",
    "df.head()"
   ]
  },
  {
   "cell_type": "code",
   "execution_count": null,
   "metadata": {},
   "outputs": [],
   "source": [
    "# tee 4 -f 1 3 -t 3 5\n",
    "plt.plot([0, 1, 2, 3, 4], [5, 9, 2, 10, 4])\n",
    "plt.show()"
   ]
  },
  {
   "cell_type": "code",
   "execution_count": null,
   "metadata": {},
   "outputs": [],
   "source": [
    "# tee 9\n",
    "Math(r'F(k) = \\int_{-\\infty}^{\\infty} f(x) e^{2\\pi i k} dx')"
   ]
  },
  {
   "cell_type": "code",
   "execution_count": null,
   "metadata": {},
   "outputs": [],
   "source": [
    "# tee 10\n",
    "Latex(\"$$c = \\sqrt{a^2 + b^2}$$\")"
   ]
  },
  {
   "cell_type": "code",
   "execution_count": null,
   "metadata": {},
   "outputs": [],
   "source": [
    "# tee 11\n",
    "with open(\"./README.md\", \"r\") as f:\n",
    "    md = \"\\n\".join(f.readlines())\n",
    "Markdown(md)"
   ]
  },
  {
   "cell_type": "code",
   "execution_count": null,
   "metadata": {},
   "outputs": [],
   "source": [
    "# tee 12\n",
    "JSON({\"hello\": \"world\"})"
   ]
  },
  {
   "cell_type": "code",
   "execution_count": null,
   "metadata": {},
   "outputs": [],
   "source": [
    "# tee 13\n",
    "GeoJSON(data={\n",
    "    \"type\": \"Feature\",\n",
    "    \"geometry\": {\n",
    "        \"type\": \"Point\",\n",
    "        \"coordinates\": [-81.327, 296.038]\n",
    "    }\n",
    "},\n",
    "url_template=\"https://tile.openstreetmap.org/{z}/{x}/{y}.png\",\n",
    "layer_options={\n",
    "    \"minZoom\" : 0,\n",
    "    \"maxZoom\" : 18,\n",
    "})"
   ]
  },
  {
   "cell_type": "code",
   "execution_count": null,
   "metadata": {},
   "outputs": [],
   "source": [
    "# tee 14\n",
    "Video(\"https://archive.org/download/Sita_Sings_the_Blues/Sita_Sings_the_Blues_small.mp4\")"
   ]
  },
  {
   "cell_type": "code",
   "execution_count": null,
   "metadata": {},
   "outputs": [],
   "source": [
    "# tee 15\n",
    "YouTubeVideo(\"XY3NP4JHXZ4\")"
   ]
  },
  {
   "cell_type": "code",
   "execution_count": null,
   "metadata": {},
   "outputs": [],
   "source": [
    "# tee 16\n",
    "Audio(url=\"https://www.w3schools.com/html/horse.ogg\")"
   ]
  },
  {
   "cell_type": "code",
   "execution_count": null,
   "metadata": {},
   "outputs": [],
   "source": [
    "# tee 17\n",
    "Video(filename=\"./data/sample.mp4\")"
   ]
  },
  {
   "cell_type": "code",
   "execution_count": null,
   "metadata": {},
   "outputs": [],
   "source": [
    "# tee 18\n",
    "IFrame(src=\"https://ove.readthedocs.io/en/stable/README.html\", width=\"100%\", height=\"100%\")"
   ]
  },
  {
   "cell_type": "code",
   "execution_count": null,
   "metadata": {},
   "outputs": [],
   "source": [
    "# tee 19\n",
    "Image(filename=\"./data/sample.jpeg\")"
   ]
  },
  {
   "cell_type": "code",
   "execution_count": null,
   "metadata": {},
   "outputs": [],
   "source": [
    "# tee 20\n",
    "display(Image(filename=\"./data/sample.png\"))\n",
    "Image(filename=\"./data/sample.png\")"
   ]
  },
  {
   "cell_type": "code",
   "execution_count": null,
   "metadata": {},
   "outputs": [],
   "source": []
  }
 ],
 "metadata": {
  "kernelspec": {
   "display_name": "Python 3 (ipykernel)",
   "language": "python",
   "name": "python3"
  },
  "language_info": {
   "codemirror_mode": {
    "name": "ipython",
    "version": 3
   },
   "file_extension": ".py",
   "mimetype": "text/x-python",
   "name": "python",
   "nbconvert_exporter": "python",
   "pygments_lexer": "ipython3",
   "version": "3.9.6"
  }
 },
 "nbformat": 4,
 "nbformat_minor": 1
}
